{
 "cells": [
  {
   "cell_type": "code",
   "execution_count": 1,
   "id": "03e92def",
   "metadata": {},
   "outputs": [],
   "source": [
    "import pandas as pd\n",
    "import numpy as np\n",
    "import matplotlib as mpl\n",
    "import matplotlib.pyplot as plt\n",
    "from matplotlib.lines import Line2D\n",
    "from colors import colors\n",
    "from matplotlib.path import Path\n",
    "import matplotlib.patches as patches\n",
    "import math"
   ]
  },
  {
   "cell_type": "code",
   "execution_count": 2,
   "id": "0a3d253e",
   "metadata": {},
   "outputs": [],
   "source": [
    "df=pd.read_csv(\"COLVAR_REWEIGHT_cn_2.7ang_RMSD_upto-6195ns\",sep='\\s+',comment=\"#\")"
   ]
  },
  {
   "cell_type": "code",
   "execution_count": 3,
   "id": "ba141df8",
   "metadata": {},
   "outputs": [],
   "source": [
    "t,eRMSD,r,d,cn,cn1,v=df.iloc[:,0],df.iloc[:,1],df.iloc[:,2],df.iloc[:,3],df.iloc[:,4],df.iloc[:,5],df.iloc[:,6]"
   ]
  },
  {
   "cell_type": "code",
   "execution_count": 77,
   "id": "15a12d03",
   "metadata": {},
   "outputs": [],
   "source": [
    "with open('RMSD_0.4_upto-6195ns.ndx') as f:\n",
    "  numbers = [int(i) for i in f]\n",
    "\n",
    "# print(numbers)\n",
    "\n",
    "file = open(\"COLVAR_REWEIGHT_cn_2.7ang_RMSD_upto-6195ns\") \n",
    "outfile = open('COLVAR_REWEIGHT_RMSD_0.4', 'w') \n",
    "# lines to print \n",
    "# specified_lines = [0, 7, 11] \n",
    "  \n",
    "# loop over lines in a file \n",
    "for pos, l_num in enumerate(file): \n",
    "    # check if the line number is specified in the lines to read array \n",
    "    if pos in numbers: \n",
    "        # print the required line number \n",
    "        print(l_num,file = outfile)\n",
    "\n",
    "outfile.close()\n",
    "        \n",
    "        "
   ]
  },
  {
   "cell_type": "code",
   "execution_count": 78,
   "id": "a8a56d3c",
   "metadata": {},
   "outputs": [],
   "source": [
    "with open('RMSD_0.25_upto-6195ns.ndx') as f:\n",
    "  numbers = [int(i) for i in f]\n",
    "\n",
    "# print(numbers)\n",
    "\n",
    "file = open(\"COLVAR_REWEIGHT_cn_2.7ang_RMSD_upto-6195ns\") \n",
    "outfile = open('COLVAR_REWEIGHT_RMSD_0.25', 'w') \n",
    "# lines to print \n",
    "# specified_lines = [0, 7, 11] \n",
    "  \n",
    "# loop over lines in a file \n",
    "for pos, l_num in enumerate(file): \n",
    "    # check if the line number is specified in the lines to read array \n",
    "    if pos in numbers: \n",
    "        # print the required line number \n",
    "        print(l_num,file = outfile)\n",
    "\n",
    "outfile.close()"
   ]
  },
  {
   "cell_type": "code",
   "execution_count": 79,
   "id": "ebaac369",
   "metadata": {},
   "outputs": [],
   "source": [
    "with open('RMSD_0.68_upto-6195ns.ndx') as f:\n",
    "  numbers = [int(i) for i in f]\n",
    "\n",
    "# print(numbers)\n",
    "\n",
    "file = open(\"COLVAR_REWEIGHT_cn_2.7ang_RMSD_upto-6195ns\") \n",
    "outfile = open('COLVAR_REWEIGHT_RMSD_0.68', 'w') \n",
    "# lines to print \n",
    "# specified_lines = [0, 7, 11] \n",
    "  \n",
    "# loop over lines in a file \n",
    "for pos, l_num in enumerate(file): \n",
    "    # check if the line number is specified in the lines to read array \n",
    "    if pos in numbers: \n",
    "        # print the required line number \n",
    "        print(l_num,file = outfile)\n",
    "\n",
    "outfile.close()"
   ]
  },
  {
   "cell_type": "code",
   "execution_count": null,
   "id": "110aba4e",
   "metadata": {},
   "outputs": [],
   "source": []
  }
 ],
 "metadata": {
  "kernelspec": {
   "display_name": "Python 3 (ipykernel)",
   "language": "python",
   "name": "python3"
  },
  "language_info": {
   "codemirror_mode": {
    "name": "ipython",
    "version": 3
   },
   "file_extension": ".py",
   "mimetype": "text/x-python",
   "name": "python",
   "nbconvert_exporter": "python",
   "pygments_lexer": "ipython3",
   "version": "3.8.10"
  }
 },
 "nbformat": 4,
 "nbformat_minor": 5
}
